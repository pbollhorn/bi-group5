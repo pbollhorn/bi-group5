{
 "cells": [
  {
   "cell_type": "code",
   "execution_count": 1,
   "id": "e6b343be",
   "metadata": {},
   "outputs": [],
   "source": [
    "from reader import f1_reader\n",
    "from reader import generic_reader"
   ]
  }
 ],
 "metadata": {
  "kernelspec": {
   "display_name": "base",
   "language": "python",
   "name": "python3"
  },
  "language_info": {
   "codemirror_mode": {
    "name": "ipython",
    "version": 3
   },
   "file_extension": ".py",
   "mimetype": "text/x-python",
   "name": "python",
   "nbconvert_exporter": "python",
   "pygments_lexer": "ipython3",
   "version": "3.13.5"
  }
 },
 "nbformat": 4,
 "nbformat_minor": 5
}
