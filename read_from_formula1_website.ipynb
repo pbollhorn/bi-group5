{
 "cells": [
  {
   "cell_type": "markdown",
   "id": "0b0f683f",
   "metadata": {},
   "source": [
    "# read_from_formula1_website.ipynb:\n",
    "This Jupyter notebook reads data from the official F1 website: formula1.com<br>\n",
    "It reads results from all races from 1950 to 2024 into one html file per race.<br>\n",
    "\n",
    "The filename format is \"year-race_no.html\".<br>\n",
    "E.g. \"1950-1.html\" for the first race ever,<br>\n",
    "\"2024-1.html\" for the first race of the 2024 season and <br>\n",
    "\"2024-24.html\" for the last race of the 2024 season.<br>\n",
    "<br>\n",
    "The files are placed inside directory named \"html\""
   ]
  },
  {
   "cell_type": "code",
   "execution_count": 1,
   "id": "425dab55",
   "metadata": {},
   "outputs": [],
   "source": [
    "import os\n",
    "import myreader\n",
    "\n",
    "directory = \"html/\"\n",
    "os.makedirs(directory)\n",
    "\n",
    "for year in range(1950,2025):\n",
    "    myreader.read_f1_season_to_html_files(year, directory)"
   ]
  }
 ],
 "metadata": {
  "kernelspec": {
   "display_name": "base",
   "language": "python",
   "name": "python3"
  },
  "language_info": {
   "codemirror_mode": {
    "name": "ipython",
    "version": 3
   },
   "file_extension": ".py",
   "mimetype": "text/x-python",
   "name": "python",
   "nbconvert_exporter": "python",
   "pygments_lexer": "ipython3",
   "version": "3.13.5"
  }
 },
 "nbformat": 4,
 "nbformat_minor": 5
}
