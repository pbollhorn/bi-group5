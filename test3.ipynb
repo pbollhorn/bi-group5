{
 "cells": [
  {
   "cell_type": "code",
   "execution_count": 1,
   "id": "b341c6ca",
   "metadata": {},
   "outputs": [],
   "source": [
    "import myreader"
   ]
  },
  {
   "cell_type": "code",
   "execution_count": 2,
   "id": "fecfab08",
   "metadata": {},
   "outputs": [],
   "source": [
    "myreader.read_f1_season_to_html_files(1950)"
   ]
  }
 ],
 "metadata": {
  "kernelspec": {
   "display_name": "base",
   "language": "python",
   "name": "python3"
  },
  "language_info": {
   "codemirror_mode": {
    "name": "ipython",
    "version": 3
   },
   "file_extension": ".py",
   "mimetype": "text/x-python",
   "name": "python",
   "nbconvert_exporter": "python",
   "pygments_lexer": "ipython3",
   "version": "3.13.5"
  }
 },
 "nbformat": 4,
 "nbformat_minor": 5
}
