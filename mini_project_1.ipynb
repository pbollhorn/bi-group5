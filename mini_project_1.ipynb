{
 "cells": [
  {
   "cell_type": "code",
   "execution_count": 1,
   "id": "f59fbc9f",
   "metadata": {},
   "outputs": [],
   "source": [
    "import myreader"
   ]
  },
  {
   "cell_type": "markdown",
   "id": "cbf4e148",
   "metadata": {},
   "source": [
    "Read results from all formula 1 races for all seasons since 1950 up untill 2024\n",
    "(Season 2025, the current season, not included)"
   ]
  },
  {
   "cell_type": "code",
   "execution_count": null,
   "id": "5df13d40",
   "metadata": {},
   "outputs": [],
   "source": [
    "all_results = {}\n",
    "for year in range(1950,2025):\n",
    "    all_results[year] = myreader.read_f1_season_results(year)"
   ]
  },
  {
   "cell_type": "code",
   "execution_count": null,
   "id": "fe6333ba",
   "metadata": {},
   "outputs": [
    {
     "name": "stdout",
     "output_type": "stream",
     "text": [
      "Index(['POS.', 'NO.', 'DRIVER', 'TEAM', 'LAPS', 'TIME / RETIRED', 'PTS.'], dtype='object')\n"
     ]
    }
   ],
   "source": [
    "print(all_results[1950][1].columns)"
   ]
  },
  {
   "cell_type": "code",
   "execution_count": null,
   "id": "6196ad63",
   "metadata": {},
   "outputs": [
    {
     "name": "stdout",
     "output_type": "stream",
     "text": [
      "Index(['POS.', 'NO.', 'DRIVER', 'TEAM', 'LAPS', 'TIME / RETIRED', 'PTS.'], dtype='object')\n"
     ]
    }
   ],
   "source": [
    "print(all_results[2024][24].columns)"
   ]
  },
  {
   "cell_type": "markdown",
   "id": "66213433",
   "metadata": {},
   "source": [
    "Number of races per season"
   ]
  },
  {
   "cell_type": "code",
   "execution_count": null,
   "id": "a58ccdc6",
   "metadata": {},
   "outputs": [
    {
     "ename": "NameError",
     "evalue": "name 'all_results' is not defined",
     "output_type": "error",
     "traceback": [
      "\u001b[1;31m---------------------------------------------------------------------------\u001b[0m",
      "\u001b[1;31mNameError\u001b[0m                                 Traceback (most recent call last)",
      "Cell \u001b[1;32mIn[3], line 2\u001b[0m\n\u001b[0;32m      1\u001b[0m \u001b[38;5;28;01mfor\u001b[39;00m year \u001b[38;5;129;01min\u001b[39;00m \u001b[38;5;28mrange\u001b[39m(\u001b[38;5;241m1950\u001b[39m,\u001b[38;5;241m2025\u001b[39m):\n\u001b[1;32m----> 2\u001b[0m     \u001b[38;5;28mprint\u001b[39m(\u001b[38;5;28mlen\u001b[39m(all_results[year]))\n",
      "\u001b[1;31mNameError\u001b[0m: name 'all_results' is not defined"
     ]
    }
   ],
   "source": [
    "for year in range(1950,2025):\n",
    "    print(len(all_results[year]))"
   ]
  },
  {
   "cell_type": "code",
   "execution_count": null,
   "id": "4020db7f",
   "metadata": {},
   "outputs": [],
   "source": []
  }
 ],
 "metadata": {
  "kernelspec": {
   "display_name": "base",
   "language": "python",
   "name": "python3"
  },
  "language_info": {
   "codemirror_mode": {
    "name": "ipython",
    "version": 3
   },
   "file_extension": ".py",
   "mimetype": "text/x-python",
   "name": "python",
   "nbconvert_exporter": "python",
   "pygments_lexer": "ipython3",
   "version": "3.13.5"
  }
 },
 "nbformat": 4,
 "nbformat_minor": 5
}
