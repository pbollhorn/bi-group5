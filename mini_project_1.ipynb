{
 "cells": [
  {
   "cell_type": "markdown",
   "id": "0c53057b",
   "metadata": {},
   "source": [
    "# mini_project_1.ipynb"
   ]
  },
  {
   "cell_type": "code",
   "execution_count": 1,
   "id": "f59fbc9f",
   "metadata": {},
   "outputs": [],
   "source": [
    "import f1_reader"
   ]
  },
  {
   "cell_type": "markdown",
   "id": "cbf4e148",
   "metadata": {},
   "source": [
    "Read results from all formula 1 races for all seasons since 1950 up untill 2024"
   ]
  },
  {
   "cell_type": "code",
   "execution_count": null,
   "id": "5df13d40",
   "metadata": {},
   "outputs": [
    {
     "ename": "KeyboardInterrupt",
     "evalue": "",
     "output_type": "error",
     "traceback": [
      "\u001b[1;31m---------------------------------------------------------------------------\u001b[0m",
      "\u001b[1;31mKeyboardInterrupt\u001b[0m                         Traceback (most recent call last)",
      "Cell \u001b[1;32mIn[2], line 5\u001b[0m\n\u001b[0;32m      3\u001b[0m results \u001b[38;5;241m=\u001b[39m {}\n\u001b[0;32m      4\u001b[0m \u001b[38;5;28;01mfor\u001b[39;00m year \u001b[38;5;129;01min\u001b[39;00m \u001b[38;5;28mrange\u001b[39m(\u001b[38;5;241m1950\u001b[39m, \u001b[38;5;241m2025\u001b[39m):\n\u001b[1;32m----> 5\u001b[0m     results[year] \u001b[38;5;241m=\u001b[39m f1_reader\u001b[38;5;241m.\u001b[39mread_f1_season_from_html_files_to_dictionary(year, directory)\n",
      "File \u001b[1;32mr:\\VS_Code\\Python\\BI\\bi-group5\\f1_reader.py:87\u001b[0m, in \u001b[0;36mread_f1_season_from_html_files_to_dictionary\u001b[1;34m(year, directory)\u001b[0m\n\u001b[0;32m     85\u001b[0m     \u001b[38;5;28;01mif\u001b[39;00m \u001b[38;5;129;01mnot\u001b[39;00m os\u001b[38;5;241m.\u001b[39mpath\u001b[38;5;241m.\u001b[39mexists(file_path):\n\u001b[0;32m     86\u001b[0m         \u001b[38;5;28;01mbreak\u001b[39;00m\n\u001b[1;32m---> 87\u001b[0m     season[race_no] \u001b[38;5;241m=\u001b[39m read_f1_race_from_html_file_to_data_frame(file_path)\n\u001b[0;32m     89\u001b[0m \u001b[38;5;28;01mreturn\u001b[39;00m season\n",
      "File \u001b[1;32mr:\\VS_Code\\Python\\BI\\bi-group5\\f1_reader.py:48\u001b[0m, in \u001b[0;36mread_f1_race_from_html_file_to_data_frame\u001b[1;34m(file_path)\u001b[0m\n\u001b[0;32m     46\u001b[0m \u001b[38;5;28;01mdef\u001b[39;00m\u001b[38;5;250m \u001b[39m\u001b[38;5;21mread_f1_race_from_html_file_to_data_frame\u001b[39m(file_path):\n\u001b[1;32m---> 48\u001b[0m     \u001b[38;5;28;01mwith\u001b[39;00m \u001b[38;5;28mopen\u001b[39m(file_path, \u001b[38;5;124m\"\u001b[39m\u001b[38;5;124mr\u001b[39m\u001b[38;5;124m\"\u001b[39m, encoding\u001b[38;5;241m=\u001b[39m\u001b[38;5;124m\"\u001b[39m\u001b[38;5;124mutf-8\u001b[39m\u001b[38;5;124m\"\u001b[39m) \u001b[38;5;28;01mas\u001b[39;00m f:\n\u001b[0;32m     49\u001b[0m         html_content \u001b[38;5;241m=\u001b[39m f\u001b[38;5;241m.\u001b[39mread()\n\u001b[0;32m     50\u001b[0m     soup \u001b[38;5;241m=\u001b[39m BeautifulSoup(html_content, \u001b[38;5;124m\"\u001b[39m\u001b[38;5;124mhtml.parser\u001b[39m\u001b[38;5;124m\"\u001b[39m)\n",
      "File \u001b[1;32m<frozen codecs>:312\u001b[0m, in \u001b[0;36m__init__\u001b[1;34m(self, errors)\u001b[0m\n",
      "\u001b[1;31mKeyboardInterrupt\u001b[0m: "
     ]
    }
   ],
   "source": [
    "directory = \"html\"\n",
    "\n",
    "results = {}\n",
    "for year in range(2020, 2025):\n",
    "    results[year] = f1_reader.read_f1_season_from_html_files_to_dictionary(year, directory)"
   ]
  },
  {
   "cell_type": "markdown",
   "id": "66213433",
   "metadata": {},
   "source": [
    "Number of races per season"
   ]
  },
  {
   "cell_type": "code",
   "execution_count": null,
   "id": "20657c01",
   "metadata": {},
   "outputs": [],
   "source": [
    "races_per_season = {year: len(season) for year, season in results.items()}\n"
   ]
  }
 ],
 "metadata": {
  "kernelspec": {
   "display_name": "base",
   "language": "python",
   "name": "python3"
  },
  "language_info": {
   "codemirror_mode": {
    "name": "ipython",
    "version": 3
   },
   "file_extension": ".py",
   "mimetype": "text/x-python",
   "name": "python",
   "nbconvert_exporter": "python",
   "pygments_lexer": "ipython3",
   "version": "3.13.5"
  }
 },
 "nbformat": 4,
 "nbformat_minor": 5
}
