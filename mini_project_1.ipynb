{
 "cells": [
  {
   "cell_type": "markdown",
   "id": "0c53057b",
   "metadata": {},
   "source": [
    "# mini_project_1.ipynb"
   ]
  },
  {
   "cell_type": "code",
   "execution_count": null,
   "id": "f59fbc9f",
   "metadata": {},
   "outputs": [],
   "source": [
    "import f1_reader"
   ]
  },
  {
   "cell_type": "markdown",
   "id": "cbf4e148",
   "metadata": {},
   "source": [
    "Read results from all formula 1 races for all seasons since 1950 up untill 2024\n",
    "(Season 2025, the current season, not included)"
   ]
  },
  {
   "cell_type": "code",
   "execution_count": null,
   "id": "5df13d40",
   "metadata": {},
   "outputs": [],
   "source": [
    "directory = \"html\"\n",
    "\n",
    "results = {}\n",
    "for year in range(2024, 2025):\n",
    "    results[year] = f1_reader.read_f1_season_from_html_files_to_dictionary(year, directory)"
   ]
  },
  {
   "cell_type": "code",
   "execution_count": null,
   "id": "fe6333ba",
   "metadata": {},
   "outputs": [],
   "source": [
    "results[2020][10]"
   ]
  },
  {
   "cell_type": "code",
   "execution_count": null,
   "id": "6196ad63",
   "metadata": {},
   "outputs": [],
   "source": [
    "print(results[2024][24].columns)"
   ]
  },
  {
   "cell_type": "markdown",
   "id": "66213433",
   "metadata": {},
   "source": [
    "Number of races per season"
   ]
  },
  {
   "cell_type": "code",
   "execution_count": null,
   "id": "a58ccdc6",
   "metadata": {},
   "outputs": [],
   "source": [
    "for year in range(1950,2025):\n",
    "    print(len(results[year]))"
   ]
  },
  {
   "cell_type": "code",
   "execution_count": null,
   "id": "4020db7f",
   "metadata": {},
   "outputs": [],
   "source": []
  }
 ],
 "metadata": {
  "kernelspec": {
   "display_name": "base",
   "language": "python",
   "name": "python3"
  },
  "language_info": {
   "codemirror_mode": {
    "name": "ipython",
    "version": 3
   },
   "file_extension": ".py",
   "mimetype": "text/x-python",
   "name": "python",
   "nbconvert_exporter": "python",
   "pygments_lexer": "ipython3",
   "version": "3.13.5"
  }
 },
 "nbformat": 4,
 "nbformat_minor": 5
}
