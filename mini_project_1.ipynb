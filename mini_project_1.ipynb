{
 "cells": [
  {
   "cell_type": "markdown",
   "id": "0c53057b",
   "metadata": {},
   "source": [
    "# mini_project_1.ipynb\n",
    "\n",
    "This mini project works with data from the official F1 website: formula1.com<br>\n",
    "<br>\n",
    "In the notebook **read_from_formula1_website.ipynb** results from all races from 1950 to 2024<br>\n",
    "are read from the website and stored as html files in a directory called \"html\".<br>\n",
    "<br>\n",
    "Functionality for reading from the website and storing as html files is in the module **f1_reader.py**<br>\n",
    "This module also contain functionality for reading the results from the html files into pandas data frames.<br>"
   ]
  },
  {
   "cell_type": "code",
   "execution_count": 1,
   "id": "f59fbc9f",
   "metadata": {},
   "outputs": [],
   "source": [
    "import pandas as pd\n",
    "import f1_reader"
   ]
  },
  {
   "cell_type": "markdown",
   "id": "cbf4e148",
   "metadata": {},
   "source": [
    "First results from all F1 races from 1950 to 2024 is loaded into the variable `results`.<br>\n",
    "`results` is a dictionary with key: `year` and value: `season`<br>\n",
    "Each `season` is a dictionary with key: `race_no` and value: data frame with race result.<br>"
   ]
  },
  {
   "cell_type": "code",
   "execution_count": 2,
   "id": "5df13d40",
   "metadata": {},
   "outputs": [],
   "source": [
    "directory = \"html\"\n",
    "\n",
    "results = {}\n",
    "for year in range(1950, 2025):\n",
    "    results[year] = f1_reader.read_f1_season_from_html_files_to_dictionary(year, directory)"
   ]
  },
  {
   "cell_type": "markdown",
   "id": "0ab0e8a1",
   "metadata": {},
   "source": [
    "Here is how a race result is accessed:<br>\n",
    "`results[year][race_no]` -> data frame with race result<br>\n",
    "\n",
    "As an example is here shown the race result from the 6'th race of the 2024 season:"
   ]
  },
  {
   "cell_type": "code",
   "execution_count": 3,
   "id": "a2c8119f",
   "metadata": {},
   "outputs": [
    {
     "data": {
      "text/html": [
       "<div>\n",
       "<style scoped>\n",
       "    .dataframe tbody tr th:only-of-type {\n",
       "        vertical-align: middle;\n",
       "    }\n",
       "\n",
       "    .dataframe tbody tr th {\n",
       "        vertical-align: top;\n",
       "    }\n",
       "\n",
       "    .dataframe thead th {\n",
       "        text-align: right;\n",
       "    }\n",
       "</style>\n",
       "<table border=\"1\" class=\"dataframe\">\n",
       "  <thead>\n",
       "    <tr style=\"text-align: right;\">\n",
       "      <th></th>\n",
       "      <th>POS.</th>\n",
       "      <th>NO.</th>\n",
       "      <th>DRIVER</th>\n",
       "      <th>TEAM</th>\n",
       "      <th>LAPS</th>\n",
       "      <th>TIME / RETIRED</th>\n",
       "      <th>PTS.</th>\n",
       "    </tr>\n",
       "  </thead>\n",
       "  <tbody>\n",
       "    <tr>\n",
       "      <th>0</th>\n",
       "      <td>1</td>\n",
       "      <td>4</td>\n",
       "      <td>Lando Norris NOR</td>\n",
       "      <td>McLaren Mercedes</td>\n",
       "      <td>57</td>\n",
       "      <td>1:30:49.876</td>\n",
       "      <td>25</td>\n",
       "    </tr>\n",
       "    <tr>\n",
       "      <th>1</th>\n",
       "      <td>2</td>\n",
       "      <td>1</td>\n",
       "      <td>Max Verstappen VER</td>\n",
       "      <td>Red Bull Racing Honda RBPT</td>\n",
       "      <td>57</td>\n",
       "      <td>+7.612s</td>\n",
       "      <td>18</td>\n",
       "    </tr>\n",
       "    <tr>\n",
       "      <th>2</th>\n",
       "      <td>3</td>\n",
       "      <td>16</td>\n",
       "      <td>Charles Leclerc LEC</td>\n",
       "      <td>Ferrari</td>\n",
       "      <td>57</td>\n",
       "      <td>+9.920s</td>\n",
       "      <td>15</td>\n",
       "    </tr>\n",
       "    <tr>\n",
       "      <th>3</th>\n",
       "      <td>4</td>\n",
       "      <td>11</td>\n",
       "      <td>Sergio Perez PER</td>\n",
       "      <td>Red Bull Racing Honda RBPT</td>\n",
       "      <td>57</td>\n",
       "      <td>+14.650s</td>\n",
       "      <td>12</td>\n",
       "    </tr>\n",
       "    <tr>\n",
       "      <th>4</th>\n",
       "      <td>5</td>\n",
       "      <td>55</td>\n",
       "      <td>Carlos Sainz SAI</td>\n",
       "      <td>Ferrari</td>\n",
       "      <td>57</td>\n",
       "      <td>+16.407s</td>\n",
       "      <td>10</td>\n",
       "    </tr>\n",
       "    <tr>\n",
       "      <th>5</th>\n",
       "      <td>6</td>\n",
       "      <td>44</td>\n",
       "      <td>Lewis Hamilton HAM</td>\n",
       "      <td>Mercedes</td>\n",
       "      <td>57</td>\n",
       "      <td>+16.585s</td>\n",
       "      <td>8</td>\n",
       "    </tr>\n",
       "    <tr>\n",
       "      <th>6</th>\n",
       "      <td>7</td>\n",
       "      <td>22</td>\n",
       "      <td>Yuki Tsunoda TSU</td>\n",
       "      <td>RB Honda RBPT</td>\n",
       "      <td>57</td>\n",
       "      <td>+26.185s</td>\n",
       "      <td>6</td>\n",
       "    </tr>\n",
       "    <tr>\n",
       "      <th>7</th>\n",
       "      <td>8</td>\n",
       "      <td>63</td>\n",
       "      <td>George Russell RUS</td>\n",
       "      <td>Mercedes</td>\n",
       "      <td>57</td>\n",
       "      <td>+34.789s</td>\n",
       "      <td>4</td>\n",
       "    </tr>\n",
       "    <tr>\n",
       "      <th>8</th>\n",
       "      <td>9</td>\n",
       "      <td>14</td>\n",
       "      <td>Fernando Alonso ALO</td>\n",
       "      <td>Aston Martin Aramco Mercedes</td>\n",
       "      <td>57</td>\n",
       "      <td>+37.107s</td>\n",
       "      <td>2</td>\n",
       "    </tr>\n",
       "    <tr>\n",
       "      <th>9</th>\n",
       "      <td>10</td>\n",
       "      <td>31</td>\n",
       "      <td>Esteban Ocon OCO</td>\n",
       "      <td>Alpine Renault</td>\n",
       "      <td>57</td>\n",
       "      <td>+39.746s</td>\n",
       "      <td>1</td>\n",
       "    </tr>\n",
       "    <tr>\n",
       "      <th>10</th>\n",
       "      <td>11</td>\n",
       "      <td>27</td>\n",
       "      <td>Nico Hulkenberg HUL</td>\n",
       "      <td>Haas Ferrari</td>\n",
       "      <td>57</td>\n",
       "      <td>+40.789s</td>\n",
       "      <td>0</td>\n",
       "    </tr>\n",
       "    <tr>\n",
       "      <th>11</th>\n",
       "      <td>12</td>\n",
       "      <td>10</td>\n",
       "      <td>Pierre Gasly GAS</td>\n",
       "      <td>Alpine Renault</td>\n",
       "      <td>57</td>\n",
       "      <td>+44.958s</td>\n",
       "      <td>0</td>\n",
       "    </tr>\n",
       "    <tr>\n",
       "      <th>12</th>\n",
       "      <td>13</td>\n",
       "      <td>81</td>\n",
       "      <td>Oscar Piastri PIA</td>\n",
       "      <td>McLaren Mercedes</td>\n",
       "      <td>57</td>\n",
       "      <td>+49.756s</td>\n",
       "      <td>0</td>\n",
       "    </tr>\n",
       "    <tr>\n",
       "      <th>13</th>\n",
       "      <td>14</td>\n",
       "      <td>24</td>\n",
       "      <td>Zhou Guanyu ZHO</td>\n",
       "      <td>Kick Sauber Ferrari</td>\n",
       "      <td>57</td>\n",
       "      <td>+49.979s</td>\n",
       "      <td>0</td>\n",
       "    </tr>\n",
       "    <tr>\n",
       "      <th>14</th>\n",
       "      <td>15</td>\n",
       "      <td>3</td>\n",
       "      <td>Daniel Ricciardo RIC</td>\n",
       "      <td>RB Honda RBPT</td>\n",
       "      <td>57</td>\n",
       "      <td>+50.956s</td>\n",
       "      <td>0</td>\n",
       "    </tr>\n",
       "    <tr>\n",
       "      <th>15</th>\n",
       "      <td>16</td>\n",
       "      <td>77</td>\n",
       "      <td>Valtteri Bottas BOT</td>\n",
       "      <td>Kick Sauber Ferrari</td>\n",
       "      <td>57</td>\n",
       "      <td>+52.356s</td>\n",
       "      <td>0</td>\n",
       "    </tr>\n",
       "    <tr>\n",
       "      <th>16</th>\n",
       "      <td>17</td>\n",
       "      <td>18</td>\n",
       "      <td>Lance Stroll STR</td>\n",
       "      <td>Aston Martin Aramco Mercedes</td>\n",
       "      <td>57</td>\n",
       "      <td>+55.173s</td>\n",
       "      <td>0</td>\n",
       "    </tr>\n",
       "    <tr>\n",
       "      <th>17</th>\n",
       "      <td>18</td>\n",
       "      <td>23</td>\n",
       "      <td>Alexander Albon ALB</td>\n",
       "      <td>Williams Mercedes</td>\n",
       "      <td>57</td>\n",
       "      <td>+76.091s</td>\n",
       "      <td>0</td>\n",
       "    </tr>\n",
       "    <tr>\n",
       "      <th>18</th>\n",
       "      <td>19</td>\n",
       "      <td>20</td>\n",
       "      <td>Kevin Magnussen MAG</td>\n",
       "      <td>Haas Ferrari</td>\n",
       "      <td>57</td>\n",
       "      <td>+84.683s</td>\n",
       "      <td>0</td>\n",
       "    </tr>\n",
       "    <tr>\n",
       "      <th>19</th>\n",
       "      <td>NC</td>\n",
       "      <td>2</td>\n",
       "      <td>Logan Sargeant SAR</td>\n",
       "      <td>Williams Mercedes</td>\n",
       "      <td>27</td>\n",
       "      <td>DNF</td>\n",
       "      <td>0</td>\n",
       "    </tr>\n",
       "  </tbody>\n",
       "</table>\n",
       "</div>"
      ],
      "text/plain": [
       "   POS. NO.                DRIVER                          TEAM LAPS  \\\n",
       "0     1   4      Lando Norris NOR              McLaren Mercedes   57   \n",
       "1     2   1    Max Verstappen VER    Red Bull Racing Honda RBPT   57   \n",
       "2     3  16   Charles Leclerc LEC                       Ferrari   57   \n",
       "3     4  11      Sergio Perez PER    Red Bull Racing Honda RBPT   57   \n",
       "4     5  55      Carlos Sainz SAI                       Ferrari   57   \n",
       "5     6  44    Lewis Hamilton HAM                      Mercedes   57   \n",
       "6     7  22      Yuki Tsunoda TSU                 RB Honda RBPT   57   \n",
       "7     8  63    George Russell RUS                      Mercedes   57   \n",
       "8     9  14   Fernando Alonso ALO  Aston Martin Aramco Mercedes   57   \n",
       "9    10  31      Esteban Ocon OCO                Alpine Renault   57   \n",
       "10   11  27   Nico Hulkenberg HUL                  Haas Ferrari   57   \n",
       "11   12  10      Pierre Gasly GAS                Alpine Renault   57   \n",
       "12   13  81     Oscar Piastri PIA              McLaren Mercedes   57   \n",
       "13   14  24       Zhou Guanyu ZHO           Kick Sauber Ferrari   57   \n",
       "14   15   3  Daniel Ricciardo RIC                 RB Honda RBPT   57   \n",
       "15   16  77   Valtteri Bottas BOT           Kick Sauber Ferrari   57   \n",
       "16   17  18      Lance Stroll STR  Aston Martin Aramco Mercedes   57   \n",
       "17   18  23   Alexander Albon ALB             Williams Mercedes   57   \n",
       "18   19  20   Kevin Magnussen MAG                  Haas Ferrari   57   \n",
       "19   NC   2    Logan Sargeant SAR             Williams Mercedes   27   \n",
       "\n",
       "   TIME / RETIRED PTS.  \n",
       "0     1:30:49.876   25  \n",
       "1         +7.612s   18  \n",
       "2         +9.920s   15  \n",
       "3        +14.650s   12  \n",
       "4        +16.407s   10  \n",
       "5        +16.585s    8  \n",
       "6        +26.185s    6  \n",
       "7        +34.789s    4  \n",
       "8        +37.107s    2  \n",
       "9        +39.746s    1  \n",
       "10       +40.789s    0  \n",
       "11       +44.958s    0  \n",
       "12       +49.756s    0  \n",
       "13       +49.979s    0  \n",
       "14       +50.956s    0  \n",
       "15       +52.356s    0  \n",
       "16       +55.173s    0  \n",
       "17       +76.091s    0  \n",
       "18       +84.683s    0  \n",
       "19            DNF    0  "
      ]
     },
     "execution_count": 3,
     "metadata": {},
     "output_type": "execute_result"
    }
   ],
   "source": [
    "results[2024][6]"
   ]
  },
  {
   "cell_type": "markdown",
   "id": "8e47ad98",
   "metadata": {},
   "source": [
    "The data frames also contains metadata:\n",
    "- Race title\n",
    "- Race note (if any)"
   ]
  },
  {
   "cell_type": "code",
   "execution_count": 4,
   "id": "11ca2ce4",
   "metadata": {},
   "outputs": [
    {
     "data": {
      "text/plain": [
       "{'race_title': 'FORMULA 1 CRYPTO.COM MIAMI GRAND PRIX 2024',\n",
       " 'race_note': 'Magnussen received a 10-second time penalty for causing a collision and a 20-second time penalty for entering the pits during a Safety Car period and not changing tyres. Stroll received a 10-second time penalty for leaving the track and gaining an advantage. Sainz received a five-second time penalty for causing a collision.'}"
      ]
     },
     "execution_count": 4,
     "metadata": {},
     "output_type": "execute_result"
    }
   ],
   "source": [
    "results[2024][6].attrs"
   ]
  },
  {
   "cell_type": "markdown",
   "id": "66213433",
   "metadata": {},
   "source": [
    "## Races per season\n",
    "Now number of races per season is explored.<br>\n",
    "From `results` is generated a pandas series `races_per_season` with this information."
   ]
  },
  {
   "cell_type": "code",
   "execution_count": 5,
   "id": "20657c01",
   "metadata": {},
   "outputs": [
    {
     "name": "stdout",
     "output_type": "stream",
     "text": [
      "1950     7\n",
      "1951     9\n",
      "1952     8\n",
      "1953     9\n",
      "1954     9\n",
      "        ..\n",
      "2020    17\n",
      "2021    22\n",
      "2022    22\n",
      "2023    22\n",
      "2024    24\n",
      "Length: 75, dtype: int64\n"
     ]
    }
   ],
   "source": [
    "races_per_season = {year: len(season) for year, season in results.items()}\n",
    "races_per_season = pd.Series(races_per_season)\n",
    "print(races_per_season)"
   ]
  },
  {
   "cell_type": "markdown",
   "id": "93319ad1",
   "metadata": {},
   "source": [
    "`races_per_season` is plotted as a bar chart, so the information can be explored visually:"
   ]
  },
  {
   "cell_type": "code",
   "execution_count": 10,
   "id": "7bb48233",
   "metadata": {},
   "outputs": [
    {
     "data": {
      "image/png": "[encoded data removed]",
      "text/plain": [
       "<Figure size 640x480 with 1 Axes>"
      ]
     },
     "metadata": {},
     "output_type": "display_data"
    }
   ],
   "source": [
    "ax = races_per_season.plot(kind=\"bar\", title=\"Races per season\", xlabel=\"Season\", ylabel=\"Number of races\")\n",
    "ax.set_xticks(range(0, len(races_per_season), 10));"
   ]
  },
  {
   "cell_type": "markdown",
   "id": "9dc87554",
   "metadata": {},
   "source": [
    "From the bar chart is seen that the number of races per season has increased a lot,<br>\n",
    "from the inception of Formula 1 in 1950 up until today:<br>\n",
    "From 7 races in 1950 to 24 races in 2024 is an increase by a factor of 3.4"
   ]
  },
  {
   "cell_type": "markdown",
   "id": "e88a323c",
   "metadata": {},
   "source": [
    "## Championship standings"
   ]
  }
 ],
 "metadata": {
  "kernelspec": {
   "display_name": "base",
   "language": "python",
   "name": "python3"
  },
  "language_info": {
   "codemirror_mode": {
    "name": "ipython",
    "version": 3
   },
   "file_extension": ".py",
   "mimetype": "text/x-python",
   "name": "python",
   "nbconvert_exporter": "python",
   "pygments_lexer": "ipython3",
   "version": "3.13.5"
  }
 },
 "nbformat": 4,
 "nbformat_minor": 5
}
