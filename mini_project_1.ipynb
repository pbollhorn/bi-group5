{
 "cells": [
  {
   "cell_type": "code",
   "execution_count": 1,
   "id": "f59fbc9f",
   "metadata": {},
   "outputs": [
    {
     "name": "stdout",
     "output_type": "stream",
     "text": [
      "[   POS.  NO.                    DRIVER         TEAM  LAPS TIME / RETIRED  PTS.\n",
      "0     1    2            Nino FarinaFAR   Alfa Romeo  70.0    2:13:23.600     9\n",
      "1     2    3          Luigi FagioliFAG   Alfa Romeo  70.0        +2.600s     6\n",
      "2     3    4            Reg ParnellPAR   Alfa Romeo  70.0       +52.000s     4\n",
      "3     4   14  Yves Giraud-CabantousGIR  Talbot-Lago  68.0        +2 laps     3\n",
      "4     5   15           Louis RosierROS  Talbot-Lago  68.0        +2 laps     2\n",
      "5     6   12             Bob GerardGER          ERA  67.0        +3 laps     0\n",
      "6     7   11          Cuth HarrisonHAR          ERA  67.0        +3 laps     0\n",
      "7     8   16     Philippe EtancelinETA  Talbot-Lago  65.0        +5 laps     0\n",
      "8     9    6        David HampshireHAM     Maserati  64.0        +6 laps     0\n",
      "9    10   10                Joe FryFRY     Maserati   NaN            SHC     0\n",
      "10   10   10     Brian Shawe-TaylorSHA     Maserati  64.0        +6 laps     0\n",
      "11   11   18           Johnny ClaesCLA  Talbot-Lago  64.0        +6 laps     0\n",
      "12   NC    1     Juan Manuel FangioFAN   Alfa Romeo  62.0            DNF     0\n",
      "13   NC   23              Joe KellyKEL         Alta  57.0       +13 laps     0\n",
      "14   NC   21            Prince BiraBIR     Maserati  49.0            DNF     0\n",
      "15   NC    5           David MurrayMUR     Maserati  44.0            DNF     0\n",
      "16   NC   24         Geoff CrossleyCRO         Alta  43.0            DNF     0\n",
      "17   NC   20   Toulo de GraffenriedDEG     Maserati  36.0            DNF     0\n",
      "18   NC   19           Louis ChironCHI     Maserati  24.0            DNF     0\n",
      "19   NC   17          Eugene MartinMAR  Talbot-Lago   8.0            DNF     0\n",
      "20   NC    9          Peter Walker WAL          ERA   NaN            SHC     0\n",
      "21   NC    9              Tony RoltROL          ERA   5.0            DNF     0\n",
      "22   NC    8         Leslie JohnsonJOH          ERA   2.0            DNF     0]\n"
     ]
    }
   ],
   "source": [
    "import myreader\n",
    "\n",
    "df = myreader.readF1RaceResult(\"https://www.formula1.com/en/results/1950/races/94/great-britain/race-result\")\n",
    "print(df)"
   ]
  },
  {
   "cell_type": "code",
   "execution_count": 2,
   "id": "5df13d40",
   "metadata": {},
   "outputs": [
    {
     "name": "stdout",
     "output_type": "stream",
     "text": [
      "https://www.formula1.com/en/results/1950/races/94/great-britain/race-result\n",
      "https://www.formula1.com/en/results/1950/races/95/monaco/race-result\n",
      "https://www.formula1.com/en/results/1950/races/96/indianapolis/race-result\n",
      "https://www.formula1.com/en/results/1950/races/97/switzerland/race-result\n",
      "https://www.formula1.com/en/results/1950/races/98/belgium/race-result\n",
      "https://www.formula1.com/en/results/1950/races/99/france/race-result\n",
      "https://www.formula1.com/en/results/1950/races/100/italy/race-result\n"
     ]
    }
   ],
   "source": [
    "df = myreader.readF1SeasonResults(1950)"
   ]
  }
 ],
 "metadata": {
  "kernelspec": {
   "display_name": "base",
   "language": "python",
   "name": "python3"
  },
  "language_info": {
   "codemirror_mode": {
    "name": "ipython",
    "version": 3
   },
   "file_extension": ".py",
   "mimetype": "text/x-python",
   "name": "python",
   "nbconvert_exporter": "python",
   "pygments_lexer": "ipython3",
   "version": "3.13.5"
  }
 },
 "nbformat": 4,
 "nbformat_minor": 5
}
