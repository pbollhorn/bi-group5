{
 "cells": [
  {
   "cell_type": "code",
   "execution_count": 11,
   "id": "f59fbc9f",
   "metadata": {},
   "outputs": [],
   "source": [
    "import myreader"
   ]
  },
  {
   "cell_type": "markdown",
   "id": "cbf4e148",
   "metadata": {},
   "source": [
    "Read results from all formula 1 races for all seasons since 1950 up untill 2024\n",
    "(Season 2025, the current season, not included)"
   ]
  },
  {
   "cell_type": "code",
   "execution_count": 12,
   "id": "5df13d40",
   "metadata": {},
   "outputs": [],
   "source": [
    "all_results = {}\n",
    "for year in range(1950,2025):\n",
    "    all_results[year] = season_results = myreader.read_f1_season_results(year)"
   ]
  },
  {
   "cell_type": "code",
   "execution_count": 13,
   "id": "fe6333ba",
   "metadata": {},
   "outputs": [
    {
     "name": "stdout",
     "output_type": "stream",
     "text": [
      "Index(['POS.', 'NO.', 'DRIVER', 'TEAM', 'LAPS', 'TIME / RETIRED', 'PTS.'], dtype='object')\n"
     ]
    }
   ],
   "source": [
    "print(all_results[1950][1].columns)"
   ]
  },
  {
   "cell_type": "code",
   "execution_count": 17,
   "id": "6196ad63",
   "metadata": {},
   "outputs": [
    {
     "name": "stdout",
     "output_type": "stream",
     "text": [
      "Index(['POS.', 'NO.', 'DRIVER', 'TEAM', 'LAPS', 'TIME / RETIRED', 'PTS.'], dtype='object')\n"
     ]
    }
   ],
   "source": [
    "print(all_results[2024][24].columns)"
   ]
  }
 ],
 "metadata": {
  "kernelspec": {
   "display_name": "base",
   "language": "python",
   "name": "python3"
  },
  "language_info": {
   "codemirror_mode": {
    "name": "ipython",
    "version": 3
   },
   "file_extension": ".py",
   "mimetype": "text/x-python",
   "name": "python",
   "nbconvert_exporter": "python",
   "pygments_lexer": "ipython3",
   "version": "3.13.5"
  }
 },
 "nbformat": 4,
 "nbformat_minor": 5
}
