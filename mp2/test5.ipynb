{
 "cells": [
  {
   "cell_type": "code",
   "execution_count": null,
   "id": "35f4b71b",
   "metadata": {},
   "outputs": [],
   "source": [
    "import sys\n",
    "sys.path.append(\"..\")\n",
    "\n",
    "from plotter import histogram_plotter\n",
    "from reader import generic_reader"
   ]
  },
  {
   "cell_type": "code",
   "execution_count": null,
   "id": "6ae486fa",
   "metadata": {},
   "outputs": [],
   "source": [
    "red_wine = generic_reader.read_excel_file_to_data_frame(\"wine-data/winequality-red.xlsx\", skiprows=1)\n",
    "red_wine=red_wine.drop('quality', axis=1)\n",
    "histogram_plotter.plot_histogram(red_wine['fixed acidity'])"
   ]
  },
  {
   "cell_type": "code",
   "execution_count": null,
   "id": "c3bd20fb",
   "metadata": {},
   "outputs": [],
   "source": [
    "histogram_plotter.plot_histograms_for_data_frame(red_wine)"
   ]
  }
 ],
 "metadata": {
  "kernelspec": {
   "display_name": "base",
   "language": "python",
   "name": "python3"
  },
  "language_info": {
   "codemirror_mode": {
    "name": "ipython",
    "version": 3
   },
   "file_extension": ".py",
   "mimetype": "text/x-python",
   "name": "python",
   "nbconvert_exporter": "python",
   "pygments_lexer": "ipython3",
   "version": "3.13.5"
  }
 },
 "nbformat": 4,
 "nbformat_minor": 5
}
